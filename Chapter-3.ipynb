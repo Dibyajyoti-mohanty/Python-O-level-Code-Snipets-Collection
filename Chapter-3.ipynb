{
 "cells": [
  {
   "cell_type": "markdown",
   "metadata": {},
   "source": [
    "## Chapter 3\n",
    "## Introduction to python"
   ]
  },
  {
   "cell_type": "code",
   "execution_count": 2,
   "metadata": {},
   "outputs": [
    {
     "name": "stdout",
     "output_type": "stream",
     "text": [
      "Hello World !\n"
     ]
    }
   ],
   "source": [
    "# Process of Writting a program\n",
    "# 1) my 1st Program\n",
    "print(\"Hello World !\")"
   ]
  },
  {
   "cell_type": "code",
   "execution_count": 12,
   "metadata": {},
   "outputs": [
    {
     "data": {
      "text/plain": [
       "'\\nThis is an example\\nof multiline comments\\n'"
      ]
     },
     "execution_count": 12,
     "metadata": {},
     "output_type": "execute_result"
    }
   ],
   "source": [
    "# Using Comments\n",
    "# \"#\" symbol used to comment a line\n",
    "\n",
    "# 1) \n",
    "# compute the Average of the values\n",
    "# avg = sum/number\n",
    "\n",
    "# 2)\n",
    "x = 5 # assign 5 to x\n",
    "# avg = Sum/x #compute the average.\n",
    "# per = (Sum*100)/500 #compute  percentage.\n",
    "\n",
    "# 3) Multiline Comments\n",
    "\"\"\"\n",
    "This is an example\n",
    "of multiline comments\n",
    "\"\"\"\n"
   ]
  },
  {
   "cell_type": "markdown",
   "metadata": {},
   "source": [
    "#### Example 1"
   ]
  },
  {
   "cell_type": "code",
   "execution_count": 21,
   "metadata": {},
   "outputs": [
    {
     "name": "stdout",
     "output_type": "stream",
     "text": [
      "1st Output\n",
      "A\n",
      "B\n",
      "C\n",
      "2nd Output\n",
      "a\n",
      "b\n",
      "c\n",
      "3rd Output\n",
      "a\tb\tc\n"
     ]
    }
   ],
   "source": [
    "# Demo of backslash (\\)\n",
    "print('1st Output')\n",
    "print('A\\nB\\nC')\n",
    "print('2nd Output')\n",
    "print('a\\nb\\nc')\n",
    "print('3rd Output')\n",
    "print('a\\tb\\tc')"
   ]
  },
  {
   "cell_type": "markdown",
   "metadata": {},
   "source": [
    "##### Keywords/Reserved Words"
   ]
  },
  {
   "cell_type": "code",
   "execution_count": 24,
   "metadata": {},
   "outputs": [
    {
     "name": "stdout",
     "output_type": "stream",
     "text": [
      "['False', 'None', 'True', '__peg_parser__', 'and', 'as', 'assert', 'async', 'await', 'break', 'class', 'continue', 'def', 'del', 'elif', 'else', 'except', 'finally', 'for', 'from', 'global', 'if', 'import', 'in', 'is', 'lambda', 'nonlocal', 'not', 'or', 'pass', 'raise', 'return', 'try', 'while', 'with', 'yield']\n"
     ]
    }
   ],
   "source": [
    "import keyword\n",
    "print(keyword.kwlist)"
   ]
  },
  {
   "cell_type": "markdown",
   "metadata": {},
   "source": [
    "##### Strings Literals"
   ]
  },
  {
   "cell_type": "code",
   "execution_count": null,
   "metadata": {},
   "outputs": [],
   "source": [
    "# A string literals also spam multilines\n",
    "'''\n",
    "This is a String\n",
    "spans several lines\n",
    "because it is a little long.\n",
    "'''"
   ]
  },
  {
   "cell_type": "markdown",
   "metadata": {},
   "source": [
    "##### Numeric Literals"
   ]
  },
  {
   "cell_type": "code",
   "execution_count": 29,
   "metadata": {},
   "outputs": [
    {
     "name": "stdout",
     "output_type": "stream",
     "text": [
      "<class 'int'>\n",
      "<class 'float'>\n",
      "<class 'complex'>\n"
     ]
    }
   ],
   "source": [
    "a = 7 # integers literal\n",
    "b = 25.7 # float literal\n",
    "c = 3.14j # Complex literal\n",
    "print(type(a))\n",
    "print(type(b))\n",
    "print(type(c))"
   ]
  },
  {
   "cell_type": "markdown",
   "metadata": {},
   "source": [
    "##### Boolean Literals"
   ]
  },
  {
   "cell_type": "code",
   "execution_count": 36,
   "metadata": {},
   "outputs": [
    {
     "name": "stdout",
     "output_type": "stream",
     "text": [
      "<class 'bool'>\n"
     ]
    }
   ],
   "source": [
    "isboolean = True # Boolean Literals\n",
    "print(type(isboolean))"
   ]
  },
  {
   "cell_type": "markdown",
   "metadata": {},
   "source": [
    "##### Variables"
   ]
  },
  {
   "cell_type": "code",
   "execution_count": 38,
   "metadata": {},
   "outputs": [
    {
     "name": "stdout",
     "output_type": "stream",
     "text": [
      "The result is 10\n"
     ]
    }
   ],
   "source": [
    "x = 5 # name x to represent 5.\n",
    "y = x * 2 # 5 multiplies with 2.\n",
    "print('The result is',y) "
   ]
  },
  {
   "cell_type": "markdown",
   "metadata": {},
   "source": [
    "##### Notation of a variable."
   ]
  },
  {
   "cell_type": "code",
   "execution_count": 2,
   "metadata": {},
   "outputs": [
    {
     "name": "stdout",
     "output_type": "stream",
     "text": [
      "<class 'int'>\n",
      "<class 'float'>\n",
      "<class 'str'>\n"
     ]
    }
   ],
   "source": [
    "Counter = 100 # An integer assignment.\n",
    "miles = 1000.0 # A floating point assginment.\n",
    "name = \"Millan\" # A string assignment.\n",
    "print(type(Counter))\n",
    "print(type(miles))\n",
    "print(type(name))"
   ]
  },
  {
   "cell_type": "markdown",
   "metadata": {},
   "source": [
    "##### Check the address of a variable"
   ]
  },
  {
   "cell_type": "code",
   "execution_count": 12,
   "metadata": {},
   "outputs": [
    {
     "name": "stdout",
     "output_type": "stream",
     "text": [
      "140167123041072\n",
      "140167123041072\n",
      "140167123041072\n",
      "140167123058992\n",
      "140167123058992\n",
      "140167123051504\n"
     ]
    }
   ],
   "source": [
    "name = \"Millan\"\n",
    "nick_name = \"Millan\"\n",
    "x = \"Millan\"\n",
    "x1 = \"Dibya\"\n",
    "x2 = \"Dibya\"\n",
    "x3 = \"Dibyajyoti\"\n",
    "print(id(name))\n",
    "print(id(nick_name))\n",
    "print(id(x))\n",
    "print(id(x1))\n",
    "print(id(x2))\n",
    "print(id(x3))"
   ]
  },
  {
   "cell_type": "markdown",
   "metadata": {},
   "source": [
    "##### Let's Try"
   ]
  },
  {
   "cell_type": "code",
   "execution_count": 13,
   "metadata": {},
   "outputs": [
    {
     "name": "stdout",
     "output_type": "stream",
     "text": [
      "Same\n",
      "Same\n",
      "Same\n"
     ]
    }
   ],
   "source": [
    "a = b = c = \"Same\" # assigning the same text to multiple variables\n",
    "print(a)\n",
    "print(b)\n",
    "print(c)"
   ]
  },
  {
   "cell_type": "markdown",
   "metadata": {},
   "source": [
    "##### Let's Try"
   ]
  },
  {
   "cell_type": "code",
   "execution_count": 14,
   "metadata": {},
   "outputs": [
    {
     "name": "stdout",
     "output_type": "stream",
     "text": [
      "2\n",
      "4.7\n",
      "Welcome\n"
     ]
    }
   ],
   "source": [
    "# Assigning multiples values to multiple variables\n",
    "x,y,z = 2,4.7,\"Welcome\"\n",
    "print(x)\n",
    "print(y)\n",
    "print(z)\n",
    "\n",
    "# Assigning None to Variable\n",
    "begin = None"
   ]
  },
  {
   "cell_type": "markdown",
   "metadata": {},
   "source": [
    "##### L-value and R-value(Left and Right hand Side)"
   ]
  },
  {
   "cell_type": "code",
   "execution_count": 15,
   "metadata": {},
   "outputs": [
    {
     "ename": "SyntaxError",
     "evalue": "cannot assign to literal (<ipython-input-15-4d078789b556>, line 3)",
     "output_type": "error",
     "traceback": [
      "\u001b[0;36m  File \u001b[0;32m\"<ipython-input-15-4d078789b556>\"\u001b[0;36m, line \u001b[0;32m3\u001b[0m\n\u001b[0;31m    2 = a # invalid assignment produces an error\u001b[0m\n\u001b[0m    ^\u001b[0m\n\u001b[0;31mSyntaxError\u001b[0m\u001b[0;31m:\u001b[0m cannot assign to literal\n"
     ]
    }
   ],
   "source": [
    "a = 2 # Valid assignment\n",
    "b = 7 # valid assignment\n",
    "2 = a # invalid assignment produces an error\n",
    "7 = b # invalid assignment produces an error "
   ]
  },
  {
   "cell_type": "markdown",
   "metadata": {},
   "source": [
    "##### Mutable and Imutable Variables"
   ]
  },
  {
   "cell_type": "code",
   "execution_count": 17,
   "metadata": {},
   "outputs": [
    {
     "name": "stdout",
     "output_type": "stream",
     "text": [
      "10\n",
      "5\n"
     ]
    }
   ],
   "source": [
    "x = 5 # Will create a value 5 refferd by x.\n",
    "y = x # Will make y refer to 5 of x.\n",
    "x = x + y # In this statement LHS(x),will rebuild to 10.\n",
    "print(x)\n",
    "print(y)\n",
    "\n",
    "# Imutable :- Object with an fixed value.\n",
    "# Mutable :- Object whose value may chnage."
   ]
  },
  {
   "cell_type": "markdown",
   "metadata": {},
   "source": [
    "##### Variable Assginment and Accepting input"
   ]
  },
  {
   "cell_type": "code",
   "execution_count": 20,
   "metadata": {},
   "outputs": [
    {
     "name": "stdout",
     "output_type": "stream",
     "text": [
      "Enter your Name :- \n",
      "Hello, millan !\n"
     ]
    }
   ],
   "source": [
    "print(\"Enter your Name :- \")\n",
    "x = input()\n",
    "print(\"Hello, \"+x,\"!\")\n"
   ]
  },
  {
   "cell_type": "markdown",
   "metadata": {},
   "source": [
    "##### Let's Try"
   ]
  },
  {
   "cell_type": "code",
   "execution_count": 22,
   "metadata": {},
   "outputs": [
    {
     "name": "stdout",
     "output_type": "stream",
     "text": [
      "Numbers are :  5 6 2\n"
     ]
    }
   ],
   "source": [
    "x = int(input(\"Input first number :- \"))\n",
    "y = int(input(\"Input second number :- \"))\n",
    "z = int(input(\"Input Third number :- \"))\n",
    "print(\"Numbers are : \",x,y,z)"
   ]
  },
  {
   "cell_type": "markdown",
   "metadata": {},
   "source": [
    "##### Working With Dynamic Typing"
   ]
  },
  {
   "cell_type": "code",
   "execution_count": 25,
   "metadata": {},
   "outputs": [
    {
     "name": "stdout",
     "output_type": "stream",
     "text": [
      "20\n",
      "140167573650320\n",
      "seven\n",
      "140167123107568\n"
     ]
    }
   ],
   "source": [
    "x = 20\n",
    "print(x)\n",
    "print(id(x))\n",
    "x = \"seven\"\n",
    "print(x)\n",
    "print(id(x))\n",
    "#                       points to be noted ::\n",
    "# here different values assginged to the same variable so their IDs are different.\n",
    "# if we assgined same values to different variables then their IDs will be same. "
   ]
  },
  {
   "cell_type": "markdown",
   "metadata": {},
   "source": [
    "#### Constants"
   ]
  },
  {
   "cell_type": "code",
   "execution_count": 26,
   "metadata": {},
   "outputs": [
    {
     "name": "stdout",
     "output_type": "stream",
     "text": [
      "123\n",
      "98.6\n",
      "Hello World!\n"
     ]
    }
   ],
   "source": [
    "# They represents value directly\n",
    "print(123)\n",
    "print(98.6)\n",
    "print(\"Hello World!\")\n",
    "vowels = \"a,e,i,o,u\""
   ]
  },
  {
   "cell_type": "markdown",
   "metadata": {},
   "source": [
    "##### Let's Try"
   ]
  },
  {
   "cell_type": "code",
   "execution_count": 28,
   "metadata": {},
   "outputs": [
    {
     "name": "stdout",
     "output_type": "stream",
     "text": [
      "63\n",
      "75.5\n",
      "Hello ! How are you \n",
      "Shiva\n"
     ]
    }
   ],
   "source": [
    "print(63)\n",
    "print(75.5)\n",
    "print(\"Hello ! How are you \")\n",
    "name = \"Shiva\"\n",
    "print(name)"
   ]
  },
  {
   "cell_type": "markdown",
   "metadata": {},
   "source": [
    "#### Literal Constants"
   ]
  },
  {
   "cell_type": "code",
   "execution_count": 48,
   "metadata": {},
   "outputs": [
    {
     "name": "stdout",
     "output_type": "stream",
     "text": [
      "Vivek says, \"Hello!\" \n",
      "Vivek says, \"Hello!\"\n",
      "vivek's shirt is blue.\n",
      "vivek says,\\\"The shirt\\'scolour is blue.\\\"\n",
      "vivek says,\"The shirt'scolour is blue.\"\n"
     ]
    }
   ],
   "source": [
    "# Examples :: 5,1.23 or Strings:- \"This is a String\",\"It's a string!.\"\n",
    "# Escape Sequences\n",
    "print(\"Vivek says, \\\"Hello!\\\" \")\n",
    "#       or\n",
    "print(\"Vivek says,\",'\"Hello!\"' )\n",
    "print('vivek\\'s shirt is blue.')\n",
    "\n",
    "print(r\"vivek says,\\\"The shirt\\'scolour is blue.\\\"\")\n",
    "# without r\n",
    "print(\"vivek says,\\\"The shirt\\'scolour is blue.\\\"\")"
   ]
  },
  {
   "cell_type": "code",
   "execution_count": 49,
   "metadata": {},
   "outputs": [
    {
     "name": "stdout",
     "output_type": "stream",
     "text": [
      "3.0 1.0\n"
     ]
    }
   ],
   "source": [
    "# Complex numbers\n",
    "x = 3 + 1j\n",
    "print(x.real,x.imag) "
   ]
  },
  {
   "cell_type": "markdown",
   "metadata": {},
   "source": [
    "##### Example 2"
   ]
  },
  {
   "cell_type": "code",
   "execution_count": 52,
   "metadata": {},
   "outputs": [
    {
     "name": "stdout",
     "output_type": "stream",
     "text": [
      "12\n",
      "<class 'int'>\n",
      "<class 'str'>\n",
      "<class 'float'>\n"
     ]
    }
   ],
   "source": [
    "# Program demonstrating working of typecasting.\n",
    "x = 10\n",
    "y = \"2\"\n",
    "z = int(y) # convert string to integer using int()\n",
    "sum = x + z\n",
    "print(sum)\n",
    "\n",
    "print(type(72))\n",
    "print(type(\"string\"))\n",
    "print(type(98.7))\n"
   ]
  },
  {
   "cell_type": "markdown",
   "metadata": {},
   "source": [
    "##### Let's try\n"
   ]
  },
  {
   "cell_type": "code",
   "execution_count": 53,
   "metadata": {},
   "outputs": [
    {
     "name": "stdout",
     "output_type": "stream",
     "text": [
      "<class 'int'>\n",
      "<class 'float'>\n",
      "<class 'float'>\n",
      "<class 'int'>\n"
     ]
    }
   ],
   "source": [
    "print(type(4))\n",
    "print(type(3.14))\n",
    "print(type(2.0))\n",
    "a = -53\n",
    "print(type(a))"
   ]
  }
 ],
 "metadata": {
  "interpreter": {
   "hash": "916dbcbb3f70747c44a77c7bcd40155683ae19c65e1c03b4aa3499c5328201f1"
  },
  "kernelspec": {
   "display_name": "Python 3.9.7 64-bit",
   "language": "python",
   "name": "python3"
  },
  "language_info": {
   "codemirror_mode": {
    "name": "ipython",
    "version": 3
   },
   "file_extension": ".py",
   "mimetype": "text/x-python",
   "name": "python",
   "nbconvert_exporter": "python",
   "pygments_lexer": "ipython3",
   "version": "3.9.7"
  },
  "orig_nbformat": 4
 },
 "nbformat": 4,
 "nbformat_minor": 2
}
